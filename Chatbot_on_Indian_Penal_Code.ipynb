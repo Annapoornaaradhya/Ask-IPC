{
  "nbformat": 4,
  "nbformat_minor": 0,
  "metadata": {
    "colab": {
      "provenance": [],
      "authorship_tag": "ABX9TyOPRI0wgqTQqwustNc0D9PB",
      "include_colab_link": true
    },
    "kernelspec": {
      "name": "python3",
      "display_name": "Python 3"
    },
    "language_info": {
      "name": "python"
    },
    "widgets": {
      "application/vnd.jupyter.widget-state+json": {
        "ffcb30dc9f9149f5b404ee06dc7e561d": {
          "model_module": "@jupyter-widgets/controls",
          "model_name": "TextModel",
          "model_module_version": "1.5.0",
          "state": {
            "_dom_classes": [],
            "_model_module": "@jupyter-widgets/controls",
            "_model_module_version": "1.5.0",
            "_model_name": "TextModel",
            "_view_count": null,
            "_view_module": "@jupyter-widgets/controls",
            "_view_module_version": "1.5.0",
            "_view_name": "TextView",
            "continuous_update": true,
            "description": "You:",
            "description_tooltip": null,
            "disabled": false,
            "layout": "IPY_MODEL_94cde6dd66444460b35b843783cb9c66",
            "placeholder": "Ask about IPC",
            "style": "IPY_MODEL_ecb67f5da959468fa218126dcec7dc58",
            "value": "Theft"
          }
        },
        "94cde6dd66444460b35b843783cb9c66": {
          "model_module": "@jupyter-widgets/base",
          "model_name": "LayoutModel",
          "model_module_version": "1.2.0",
          "state": {
            "_model_module": "@jupyter-widgets/base",
            "_model_module_version": "1.2.0",
            "_model_name": "LayoutModel",
            "_view_count": null,
            "_view_module": "@jupyter-widgets/base",
            "_view_module_version": "1.2.0",
            "_view_name": "LayoutView",
            "align_content": null,
            "align_items": null,
            "align_self": null,
            "border": null,
            "bottom": null,
            "display": null,
            "flex": null,
            "flex_flow": null,
            "grid_area": null,
            "grid_auto_columns": null,
            "grid_auto_flow": null,
            "grid_auto_rows": null,
            "grid_column": null,
            "grid_gap": null,
            "grid_row": null,
            "grid_template_areas": null,
            "grid_template_columns": null,
            "grid_template_rows": null,
            "height": null,
            "justify_content": null,
            "justify_items": null,
            "left": null,
            "margin": null,
            "max_height": null,
            "max_width": null,
            "min_height": null,
            "min_width": null,
            "object_fit": null,
            "object_position": null,
            "order": null,
            "overflow": null,
            "overflow_x": null,
            "overflow_y": null,
            "padding": null,
            "right": null,
            "top": null,
            "visibility": null,
            "width": null
          }
        },
        "ecb67f5da959468fa218126dcec7dc58": {
          "model_module": "@jupyter-widgets/controls",
          "model_name": "DescriptionStyleModel",
          "model_module_version": "1.5.0",
          "state": {
            "_model_module": "@jupyter-widgets/controls",
            "_model_module_version": "1.5.0",
            "_model_name": "DescriptionStyleModel",
            "_view_count": null,
            "_view_module": "@jupyter-widgets/base",
            "_view_module_version": "1.2.0",
            "_view_name": "StyleView",
            "description_width": ""
          }
        },
        "2a28cdd57885499784d6db27c9ddb8f5": {
          "model_module": "@jupyter-widgets/controls",
          "model_name": "ButtonModel",
          "model_module_version": "1.5.0",
          "state": {
            "_dom_classes": [],
            "_model_module": "@jupyter-widgets/controls",
            "_model_module_version": "1.5.0",
            "_model_name": "ButtonModel",
            "_view_count": null,
            "_view_module": "@jupyter-widgets/controls",
            "_view_module_version": "1.5.0",
            "_view_name": "ButtonView",
            "button_style": "",
            "description": "Ask",
            "disabled": false,
            "icon": "legal",
            "layout": "IPY_MODEL_8994b1ff73574dcda7cb4918d54a074d",
            "style": "IPY_MODEL_50b68545e00445b3a13a5a1b9a5074d6",
            "tooltip": ""
          }
        },
        "8994b1ff73574dcda7cb4918d54a074d": {
          "model_module": "@jupyter-widgets/base",
          "model_name": "LayoutModel",
          "model_module_version": "1.2.0",
          "state": {
            "_model_module": "@jupyter-widgets/base",
            "_model_module_version": "1.2.0",
            "_model_name": "LayoutModel",
            "_view_count": null,
            "_view_module": "@jupyter-widgets/base",
            "_view_module_version": "1.2.0",
            "_view_name": "LayoutView",
            "align_content": null,
            "align_items": null,
            "align_self": null,
            "border": null,
            "bottom": null,
            "display": null,
            "flex": null,
            "flex_flow": null,
            "grid_area": null,
            "grid_auto_columns": null,
            "grid_auto_flow": null,
            "grid_auto_rows": null,
            "grid_column": null,
            "grid_gap": null,
            "grid_row": null,
            "grid_template_areas": null,
            "grid_template_columns": null,
            "grid_template_rows": null,
            "height": null,
            "justify_content": null,
            "justify_items": null,
            "left": null,
            "margin": null,
            "max_height": null,
            "max_width": null,
            "min_height": null,
            "min_width": null,
            "object_fit": null,
            "object_position": null,
            "order": null,
            "overflow": null,
            "overflow_x": null,
            "overflow_y": null,
            "padding": null,
            "right": null,
            "top": null,
            "visibility": null,
            "width": null
          }
        },
        "50b68545e00445b3a13a5a1b9a5074d6": {
          "model_module": "@jupyter-widgets/controls",
          "model_name": "ButtonStyleModel",
          "model_module_version": "1.5.0",
          "state": {
            "_model_module": "@jupyter-widgets/controls",
            "_model_module_version": "1.5.0",
            "_model_name": "ButtonStyleModel",
            "_view_count": null,
            "_view_module": "@jupyter-widgets/base",
            "_view_module_version": "1.2.0",
            "_view_name": "StyleView",
            "button_color": null,
            "font_weight": ""
          }
        }
      }
    }
  },
  "cells": [
    {
      "cell_type": "markdown",
      "metadata": {
        "id": "view-in-github",
        "colab_type": "text"
      },
      "source": [
        "<a href=\"https://colab.research.google.com/github/Annapoornaaradhya/Ask-IPC/blob/main/Chatbot_on_Indian_Penal_Code.ipynb\" target=\"_parent\"><img src=\"https://colab.research.google.com/assets/colab-badge.svg\" alt=\"Open In Colab\"/></a>"
      ]
    },
    {
      "cell_type": "code",
      "execution_count": 3,
      "metadata": {
        "colab": {
          "base_uri": "https://localhost:8080/",
          "height": 499,
          "referenced_widgets": [
            "ffcb30dc9f9149f5b404ee06dc7e561d",
            "94cde6dd66444460b35b843783cb9c66",
            "ecb67f5da959468fa218126dcec7dc58",
            "2a28cdd57885499784d6db27c9ddb8f5",
            "8994b1ff73574dcda7cb4918d54a074d",
            "50b68545e00445b3a13a5a1b9a5074d6"
          ]
        },
        "id": "mTph10qPIVmB",
        "outputId": "628bed69-9d45-4d8a-e9f6-2abb4b4375b7"
      },
      "outputs": [
        {
          "name": "stdout",
          "output_type": "stream",
          "text": [
            "Enter Cohere API Key: ··········\n"
          ]
        },
        {
          "output_type": "display_data",
          "data": {
            "text/plain": [
              "Text(value='', description='You:', placeholder='Ask about IPC')"
            ],
            "application/vnd.jupyter.widget-view+json": {
              "version_major": 2,
              "version_minor": 0,
              "model_id": "ffcb30dc9f9149f5b404ee06dc7e561d"
            }
          },
          "metadata": {}
        },
        {
          "output_type": "display_data",
          "data": {
            "text/plain": [
              "Button(description='Ask', icon='legal', style=ButtonStyle())"
            ],
            "application/vnd.jupyter.widget-view+json": {
              "version_major": 2,
              "version_minor": 0,
              "model_id": "2a28cdd57885499784d6db27c9ddb8f5"
            }
          },
          "metadata": {}
        },
        {
          "output_type": "stream",
          "name": "stdout",
          "text": [
            "Section: 378 of the IPC. It defines theft as follows\n",
            "Explanation: Whoever steals, or commits theft, shall be punished with imprisonment of either description for a term which may extend to three years, or with fine, or with both.\n",
            "\n",
            "For the purposes of this section, \"theft\" means:\n",
            "\n",
            "(a) the dishonest appropriation of property owned by another person, with the intention of permanently depriving the true owner of it; or\n",
            "(b) the dishonest sale, disposal, transfer, or conversion of property owned by another person, or of his entitlement to it, knowing that the property would disappear, or the entitlement would cease to exist, into the possession of one person, and disposed of or transferred to another person,\n",
            "\n",
            "Section 411 outlines the definition of \"dishonest\" in the context of theft as \"dealing with another's property in a way that amounts to a wrongful loss to him.\"\n",
            "\n",
            "Theft can be prosecuted in cases where the accused intentionally steals, or commits theft of, anything capable of being stolen. \"Anything capable of being stolen\" is defined under Section 390 of the IPC and includes money, movables such as gold or\n",
            "Section: s 378-382 define theft, how proof of theft is acquired, and the punishments that come with it. They also differentiate between theft of property and theft of bodies (human or animal) as well as the grading of punishments for theft of certain types of material. \n",
            "\n",
            "-\n",
            "Explanation: - Sections 378-382 define theft, how proof of theft is acquired, and the punishments that come with it. They also differentiate between theft of property and theft of bodies (human or animal) as well as the grading of punishments for theft of certain types of material. \n",
            "\n",
            "- Section 403 concerns damages and wrongful loss. This could be misappropriation of property, or causing wrongful loss in a contractual or other relationship of trust. This can result in a sentence of imprisonment for a term of six months, or a fine, or both. \n",
            "\n",
            "- Sections 420-422 define fraudulently inducing someone to deliver property, committing forgery, using fake proofs of identity or inducing another to sign or execute documents or sale etc. of property. These activities are punishable under Section 421 by imprisonment for a term which may extend to seven years, or fine, or both. \n",
            "\n",
            "These are some of the primary sections that deal with theft, however the IPC has many more sections which might concern acts of theft and corruption.\n"
          ]
        }
      ],
      "source": [
        "\n",
        "from langchain import PromptTemplate, LLMChain\n",
        "from langchain.llms import Cohere\n",
        "from pydantic import BaseModel\n",
        "from typing import Optional\n",
        "import wikipediaapi\n",
        "\n",
        "import getpass\n",
        "import wikipediaapi\n",
        "from pydantic import BaseModel\n",
        "from langchain.llms import Cohere\n",
        "from langchain.prompts import PromptTemplate\n",
        "from IPython.display import display\n",
        "import ipywidgets as widgets\n",
        "\n",
        "# 1. Setup Cohere LLM with API Key\n",
        "api_key = getpass.getpass('Enter Cohere API Key: ')\n",
        "llm = Cohere(cohere_api_key=api_key, model=\"command\")\n",
        "\n",
        "# 2. Fetch IPC summary from Wikipedia\n",
        "def get_ipc_content():\n",
        "    wiki = wikipediaapi.Wikipedia(user_agent=\"IPCChatbot/1.0\", language='en')\n",
        "    page = wiki.page(\"Indian_Penal_Code\")\n",
        "    if not page.exists():\n",
        "        raise Exception(\"IPC page not found!\")\n",
        "    return page.text[:5000]\n",
        "\n",
        "ipc_content = get_ipc_content()\n",
        "\n",
        "# 3. Define structured response model\n",
        "class IPCResponse(BaseModel):\n",
        "    section: str = None\n",
        "    explanation: str\n",
        "\n",
        "# 4. Prompt template\n",
        "prompt = PromptTemplate(\n",
        "    input_variables=[\"ipc_content\", \"question\"],\n",
        "    template=\"\"\"You are a legal assistant. Refer to:\n",
        "{ipc_content}\n",
        "Question: {question}\n",
        "Give a detailed answer, mentioning section if applicable.\"\"\"\n",
        ")\n",
        "\n",
        "# 5. Function to get IPC response\n",
        "def get_response(question):\n",
        "    formatted = prompt.format(ipc_content=ipc_content, question=question)\n",
        "    reply = llm.predict(formatted)\n",
        "\n",
        "    if \"Section\" in reply:\n",
        "        section = reply.split('Section')[1].split(':')[0].strip()\n",
        "        explanation = reply.split(':', 1)[-1].strip()\n",
        "    else:\n",
        "        section, explanation = None, reply.strip()\n",
        "\n",
        "    return IPCResponse(section=section, explanation=explanation)\n",
        "\n",
        "# 6. Display chatbot response\n",
        "def show_response(resp):\n",
        "    print(f\"Section: {resp.section or 'N/A'}\")\n",
        "    print(f\"Explanation: {resp.explanation}\")\n",
        "\n",
        "# 7. Widgets for user interaction\n",
        "text_box = widgets.Text(placeholder='Ask about IPC', description='You:')\n",
        "button = widgets.Button(description='Ask', icon='legal')\n",
        "\n",
        "def on_click(b):\n",
        "    try:\n",
        "        resp = get_response(text_box.value)\n",
        "        show_response(resp)\n",
        "    except Exception as e:\n",
        "        print(f\"Error: {e}\")\n",
        "\n",
        "button.on_click(on_click)\n",
        "display(text_box, button)\n"
      ]
    },
    {
      "cell_type": "code",
      "source": [],
      "metadata": {
        "id": "iHa0Uny3jCpL"
      },
      "execution_count": null,
      "outputs": []
    }
  ]
}